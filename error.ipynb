{
 "cells": [
  {
   "cell_type": "code",
   "execution_count": 2,
   "metadata": {},
   "outputs": [
    {
     "name": "stderr",
     "output_type": "stream",
     "text": [
      "100%|██████████| 1000/1000 [01:22<00:00, 12.07it/s]\n",
      "100%|██████████| 1000/1000 [01:23<00:00, 11.99it/s]\n",
      "100%|██████████| 1000/1000 [01:27<00:00, 11.44it/s]\n",
      "100%|██████████| 1000/1000 [01:27<00:00, 11.38it/s]\n",
      "100%|██████████| 1000/1000 [01:29<00:00, 11.20it/s]\n",
      "100%|██████████| 1000/1000 [01:26<00:00, 11.59it/s]\n",
      "100%|██████████| 1000/1000 [01:27<00:00, 11.38it/s]\n",
      "100%|██████████| 1000/1000 [01:25<00:00, 11.74it/s]\n",
      "100%|██████████| 1000/1000 [01:27<00:00, 11.44it/s]\n",
      "100%|██████████| 1000/1000 [01:28<00:00, 11.25it/s]\n",
      "100%|██████████| 1000/1000 [01:29<00:00, 11.23it/s]\n",
      "100%|██████████| 1000/1000 [01:26<00:00, 11.55it/s]\n",
      "100%|██████████| 1000/1000 [01:26<00:00, 11.56it/s]\n",
      "100%|██████████| 1000/1000 [01:29<00:00, 11.21it/s]\n",
      "100%|██████████| 1000/1000 [01:30<00:00, 11.07it/s]\n",
      "100%|██████████| 1000/1000 [01:29<00:00, 11.23it/s]\n",
      "100%|██████████| 1000/1000 [01:31<00:00, 10.94it/s]\n",
      "100%|██████████| 1000/1000 [01:30<00:00, 11.03it/s]\n",
      "100%|██████████| 1000/1000 [01:28<00:00, 11.29it/s]\n",
      "100%|██████████| 1000/1000 [01:30<00:00, 11.02it/s]\n",
      "100%|██████████| 1000/1000 [01:27<00:00, 11.43it/s]\n",
      "100%|██████████| 1000/1000 [01:30<00:00, 11.09it/s]\n",
      "100%|██████████| 1000/1000 [01:29<00:00, 11.17it/s]\n",
      "100%|██████████| 1000/1000 [01:28<00:00, 11.32it/s]\n",
      "100%|██████████| 1000/1000 [01:26<00:00, 11.54it/s]\n",
      "100%|██████████| 1000/1000 [01:27<00:00, 11.37it/s]\n",
      "100%|██████████| 1000/1000 [01:31<00:00, 10.95it/s]\n",
      "100%|██████████| 1000/1000 [01:30<00:00, 11.07it/s]\n",
      "100%|██████████| 1000/1000 [01:30<00:00, 11.06it/s]\n",
      "100%|██████████| 1000/1000 [01:27<00:00, 11.37it/s]\n",
      "100%|██████████| 1000/1000 [01:27<00:00, 11.43it/s]\n",
      "100%|██████████| 1000/1000 [01:29<00:00, 11.14it/s]\n",
      "100%|██████████| 1000/1000 [01:29<00:00, 11.17it/s]\n",
      "100%|██████████| 1000/1000 [01:28<00:00, 11.27it/s]\n",
      "100%|██████████| 1000/1000 [01:28<00:00, 11.29it/s]\n",
      "100%|██████████| 1000/1000 [01:28<00:00, 11.26it/s]\n",
      "100%|██████████| 1000/1000 [03:41<00:00,  4.51it/s]\n",
      "100%|██████████| 1000/1000 [01:23<00:00, 11.96it/s]\n",
      "100%|██████████| 1000/1000 [01:25<00:00, 11.67it/s]\n",
      "100%|██████████| 1000/1000 [01:22<00:00, 12.14it/s]\n",
      "100%|██████████| 1000/1000 [01:22<00:00, 12.11it/s]t]\n",
      "100%|██████████| 1000/1000 [01:22<00:00, 12.18it/s]\n",
      "100%|██████████| 1000/1000 [01:22<00:00, 12.17it/s]t]\n",
      "100%|██████████| 1000/1000 [01:22<00:00, 12.15it/s]\n",
      "100%|██████████| 1000/1000 [07:12<00:00,  2.31it/s]t]\n",
      "100%|██████████| 1000/1000 [01:25<00:00, 11.69it/s]\n",
      "100%|██████████| 1000/1000 [01:25<00:00, 11.73it/s]t]\n",
      "100%|██████████| 1000/1000 [01:23<00:00, 11.96it/s]\n",
      "100%|██████████| 1000/1000 [01:30<00:00, 11.11it/s]t]\n",
      "100%|██████████| 1000/1000 [01:25<00:00, 11.72it/s]\n",
      "100%|██████████| 1000/1000 [01:25<00:00, 11.63it/s]t]\n",
      "100%|██████████| 1000/1000 [01:23<00:00, 11.98it/s]\n",
      "100%|██████████| 1000/1000 [01:22<00:00, 12.17it/s]t]\n",
      "100%|██████████| 1000/1000 [01:26<00:00, 11.59it/s]\n",
      "100%|██████████| 1000/1000 [01:25<00:00, 11.72it/s]t]\n",
      "100%|██████████| 1000/1000 [01:23<00:00, 11.92it/s]\n",
      "100%|██████████| 1000/1000 [01:23<00:00, 11.99it/s]t]\n",
      "100%|██████████| 1000/1000 [01:28<00:00, 11.32it/s]\n",
      "100%|██████████| 1000/1000 [01:24<00:00, 11.87it/s]t]\n",
      "100%|██████████| 1000/1000 [01:25<00:00, 11.76it/s]\n",
      "100%|██████████| 1000/1000 [01:23<00:00, 11.99it/s]t]\n",
      "100%|██████████| 1000/1000 [01:24<00:00, 11.83it/s]\n",
      "100%|██████████| 1000/1000 [01:25<00:00, 11.74it/s]t]\n",
      "100%|██████████| 1000/1000 [01:24<00:00, 11.88it/s]\n",
      "100%|██████████| 1000/1000 [01:22<00:00, 12.08it/s]t]\n",
      "100%|██████████| 1000/1000 [01:24<00:00, 11.90it/s]\n",
      "100%|██████████| 1000/1000 [01:27<00:00, 11.49it/s]t]\n",
      "100%|██████████| 1000/1000 [01:26<00:00, 11.61it/s]\n",
      "100%|██████████| 1000/1000 [01:24<00:00, 11.83it/s]t]\n",
      "100%|██████████| 1000/1000 [01:22<00:00, 12.13it/s]\n",
      "100%|██████████| 1000/1000 [01:23<00:00, 11.96it/s]t]\n",
      "100%|██████████| 1000/1000 [01:22<00:00, 12.17it/s]\n",
      "100%|██████████| 1000/1000 [01:22<00:00, 12.19it/s]t]\n",
      "100%|██████████| 1000/1000 [01:22<00:00, 12.17it/s]\n",
      "100%|██████████| 1000/1000 [01:25<00:00, 11.74it/s]t]\n",
      "100%|██████████| 1000/1000 [01:24<00:00, 11.89it/s]\n",
      "100%|██████████| 1000/1000 [01:22<00:00, 12.16it/s]t]\n",
      "100%|██████████| 1000/1000 [01:22<00:00, 12.14it/s]\n",
      "100%|██████████| 1000/1000 [01:22<00:00, 12.09it/s]t]\n",
      "100%|██████████| 1000/1000 [01:23<00:00, 11.99it/s]\n",
      "100%|██████████| 1000/1000 [01:23<00:00, 12.02it/s]t]\n",
      "100%|██████████| 1000/1000 [01:22<00:00, 12.14it/s]\n",
      "100%|██████████| 1000/1000 [01:23<00:00, 11.96it/s]t]\n",
      "100%|██████████| 1000/1000 [01:22<00:00, 12.09it/s]\n",
      "100%|██████████| 1000/1000 [01:29<00:00, 11.12it/s]t]\n",
      "100%|██████████| 1000/1000 [01:24<00:00, 11.87it/s]\n",
      "100%|██████████| 1000/1000 [01:25<00:00, 11.72it/s]t]\n",
      "100%|██████████| 1000/1000 [01:24<00:00, 11.82it/s]\n",
      "100%|██████████| 1000/1000 [01:23<00:00, 11.96it/s]t]\n",
      "100%|██████████| 1000/1000 [01:23<00:00, 11.95it/s]\n",
      "100%|██████████| 1000/1000 [01:25<00:00, 11.71it/s]t]\n",
      "100%|██████████| 1000/1000 [09:36<00:00,  1.73it/s]\n",
      "100%|██████████| 1000/1000 [01:27<00:00, 11.38it/s]t]\n",
      "100%|██████████| 1000/1000 [01:27<00:00, 11.38it/s]\n",
      "100%|██████████| 1000/1000 [01:25<00:00, 11.69it/s]t]\n",
      "100%|██████████| 1000/1000 [01:27<00:00, 11.40it/s]\n",
      "100%|██████████| 1000/1000 [01:23<00:00, 12.03it/s]t]\n",
      "100%|██████████| 1000/1000 [01:24<00:00, 11.85it/s]\n",
      "100%|██████████| 1000/1000 [01:24<00:00, 11.90it/s]t]\n",
      "100%|██████████| 1000/1000 [01:23<00:00, 11.95it/s]\n",
      "100%|██████████| 1000/1000 [01:24<00:00, 11.85it/s]t]\n",
      "100%|██████████| 1000/1000 [01:25<00:00, 11.71it/s]\n",
      "100%|██████████| 1000/1000 [01:25<00:00, 11.63it/s]t]\n",
      "100%|██████████| 1000/1000 [01:30<00:00, 11.06it/s]\n",
      "100%|██████████| 1000/1000 [01:42<00:00,  9.78it/s]t]\n",
      "100%|██████████| 1000/1000 [02:09<00:00,  7.72it/s]\n",
      "100%|██████████| 1000/1000 [01:33<00:00, 10.68it/s]t]\n",
      "100%|██████████| 1000/1000 [02:01<00:00,  8.26it/s]\n",
      "100%|██████████| 1000/1000 [01:42<00:00,  9.72it/s]t]\n",
      "100%|██████████| 1000/1000 [01:24<00:00, 11.79it/s]\n",
      "100%|██████████| 1000/1000 [01:38<00:00, 10.18it/s]t]\n",
      "100%|██████████| 1000/1000 [01:44<00:00,  9.59it/s]\n",
      "100%|██████████| 1000/1000 [01:42<00:00,  9.74it/s]t]\n",
      "100%|██████████| 1000/1000 [01:45<00:00,  9.46it/s]\n",
      "100%|██████████| 1000/1000 [01:37<00:00, 10.30it/s]t]\n",
      "100%|██████████| 1000/1000 [01:36<00:00, 10.40it/s]\n",
      "100%|██████████| 1000/1000 [01:35<00:00, 10.50it/s]t]\n",
      "100%|██████████| 1000/1000 [01:59<00:00,  8.34it/s]\n",
      "100%|██████████| 1000/1000 [01:55<00:00,  8.68it/s]t]\n",
      "100%|██████████| 1000/1000 [02:08<00:00,  7.76it/s]\n",
      "100%|██████████| 1000/1000 [02:10<00:00,  7.68it/s]t]\n",
      "100%|██████████| 1000/1000 [01:54<00:00,  8.73it/s]\n",
      "100%|██████████| 1000/1000 [01:30<00:00, 11.04it/s]t]\n",
      "100%|██████████| 1000/1000 [02:06<00:00,  7.89it/s]\n",
      "100%|██████████| 1000/1000 [02:10<00:00,  7.67it/s]t]\n",
      "100%|██████████| 1000/1000 [02:07<00:00,  7.82it/s]\n",
      "100%|██████████| 1000/1000 [01:40<00:00,  9.97it/s]t]\n",
      "100%|██████████| 1000/1000 [01:26<00:00, 11.54it/s]\n",
      "100%|██████████| 1000/1000 [01:23<00:00, 11.93it/s]t]\n",
      "100%|██████████| 1000/1000 [01:23<00:00, 11.93it/s]\n",
      "100%|██████████| 1000/1000 [01:23<00:00, 11.99it/s]t]\n",
      "100%|██████████| 1000/1000 [01:23<00:00, 11.95it/s]\n",
      "100%|██████████| 1000/1000 [01:23<00:00, 11.95it/s]t]\n",
      "100%|██████████| 1000/1000 [01:23<00:00, 11.93it/s]\n",
      "100%|██████████| 1000/1000 [01:23<00:00, 11.97it/s]t]\n",
      "100%|██████████| 1000/1000 [01:24<00:00, 11.86it/s]\n",
      "100%|██████████| 1000/1000 [01:23<00:00, 12.02it/s]t]\n",
      "100%|██████████| 1000/1000 [01:22<00:00, 12.06it/s]\n",
      "100%|██████████| 1000/1000 [01:27<00:00, 11.38it/s]t]\n",
      "100%|██████████| 1000/1000 [01:23<00:00, 11.92it/s]\n",
      "100%|██████████| 1000/1000 [01:23<00:00, 12.01it/s]t]\n",
      "100%|██████████| 1000/1000 [01:24<00:00, 11.83it/s]\n",
      "100%|██████████| 1000/1000 [01:23<00:00, 11.97it/s]t]\n",
      "100%|██████████| 1000/1000 [01:24<00:00, 11.86it/s]\n",
      "100%|██████████| 1000/1000 [01:24<00:00, 11.85it/s]t]\n",
      "100%|██████████| 1000/1000 [01:25<00:00, 11.65it/s]\n",
      "100%|██████████| 1000/1000 [01:25<00:00, 11.69it/s]t]\n",
      "100%|██████████| 1000/1000 [01:29<00:00, 11.19it/s]\n",
      "100%|██████████| 1000/1000 [02:02<00:00,  8.16it/s]t]\n",
      "100%|██████████| 1000/1000 [01:47<00:00,  9.28it/s]\n",
      "100%|██████████| 1000/1000 [01:48<00:00,  9.23it/s]t]\n",
      "100%|██████████| 1000/1000 [01:59<00:00,  8.36it/s]\n",
      "100%|██████████| 1000/1000 [01:27<00:00, 11.47it/s]t]\n",
      "100%|██████████| 1000/1000 [01:26<00:00, 11.61it/s]\n",
      "100%|██████████| 1000/1000 [01:28<00:00, 11.28it/s]t]\n",
      "100%|██████████| 1000/1000 [01:23<00:00, 11.92it/s]\n",
      "100%|██████████| 1000/1000 [01:24<00:00, 11.83it/s]t]\n",
      "100%|██████████| 1000/1000 [01:26<00:00, 11.50it/s]\n",
      "100%|██████████| 1000/1000 [01:29<00:00, 11.18it/s]t]\n",
      "100%|██████████| 1000/1000 [01:27<00:00, 11.37it/s]\n",
      "100%|██████████| 1000/1000 [01:27<00:00, 11.40it/s]t]\n",
      "100%|██████████| 1000/1000 [01:31<00:00, 10.98it/s]\n",
      "100%|██████████| 1000/1000 [01:24<00:00, 11.79it/s]  \n",
      "100%|██████████| 1000/1000 [01:30<00:00, 11.01it/s]\n",
      "100%|██████████| 1000/1000 [01:27<00:00, 11.37it/s]\n",
      "100%|██████████| 1000/1000 [01:26<00:00, 11.54it/s]\n",
      "100%|██████████| 1000/1000 [01:24<00:00, 11.85it/s]\n",
      "100%|██████████| 1000/1000 [01:24<00:00, 11.86it/s]\n",
      "100%|██████████| 1000/1000 [01:24<00:00, 11.83it/s]\n",
      "100%|██████████| 1000/1000 [01:24<00:00, 11.80it/s]\n",
      "100%|██████████| 1000/1000 [01:24<00:00, 11.82it/s]\n",
      "100%|██████████| 1000/1000 [01:24<00:00, 11.83it/s]\n",
      "100%|██████████| 1000/1000 [01:25<00:00, 11.65it/s]\n",
      "100%|██████████| 1000/1000 [01:26<00:00, 11.61it/s]\n",
      "100%|██████████| 1000/1000 [01:24<00:00, 11.84it/s]\n",
      "100%|██████████| 1000/1000 [01:24<00:00, 11.82it/s]\n",
      "100%|██████████| 1000/1000 [01:23<00:00, 11.92it/s]\n",
      "100%|██████████| 1000/1000 [01:24<00:00, 11.79it/s]\n",
      "100%|██████████| 1000/1000 [01:23<00:00, 11.95it/s]\n",
      "100%|██████████| 1000/1000 [01:23<00:00, 11.93it/s]\n",
      "100%|██████████| 1000/1000 [45:36<00:00,  2.74s/it]\n",
      "100%|██████████| 1000/1000 [2:01:53<00:00,  7.31s/it]\n",
      "100%|██████████| 1000/1000 [08:13<00:00,  2.03it/s]it]\n",
      "100%|██████████| 1000/1000 [01:30<00:00, 11.04it/s]\n",
      "100%|██████████| 1000/1000 [01:37<00:00, 10.28it/s]it]\n",
      "100%|██████████| 1000/1000 [01:32<00:00, 10.83it/s]\n",
      "100%|██████████| 1000/1000 [01:29<00:00, 11.20it/s]it]\n",
      "100%|██████████| 1000/1000 [01:25<00:00, 11.64it/s]\n",
      "100%|██████████| 1000/1000 [01:29<00:00, 11.22it/s]it]\n",
      "100%|██████████| 1000/1000 [01:24<00:00, 11.84it/s]\n",
      "100%|██████████| 1000/1000 [01:26<00:00, 11.57it/s]t] \n",
      "100%|██████████| 1000/1000 [01:24<00:00, 11.83it/s]\n",
      "100%|██████████| 1000/1000 [01:29<00:00, 11.21it/s]  \n",
      "100%|██████████| 1000/1000 [01:28<00:00, 11.33it/s]\n",
      "100%|██████████| 1000/1000 [01:27<00:00, 11.44it/s]\n",
      "100%|██████████| 1000/1000 [01:27<00:00, 11.45it/s]\n",
      "100%|██████████| 1000/1000 [01:28<00:00, 11.33it/s]\n",
      "100%|██████████| 1000/1000 [01:29<00:00, 11.20it/s]\n",
      "100%|██████████| 1000/1000 [01:29<00:00, 11.14it/s]\n",
      "100%|██████████| 1000/1000 [01:29<00:00, 11.17it/s]\n",
      "100%|██████████| 100/100 [8:05:41<00:00, 291.41s/it]\n"
     ]
    }
   ],
   "source": [
    "import matplotlib.pyplot as plt\n",
    "import numpy as np\n",
    "from scipy.stats import norm, pareto\n",
    "from matplotlib import colormaps \n",
    "import itertools\n",
    "from scipy.ndimage import gaussian_filter\n",
    "from tqdm import tqdm\n",
    "from scipy import interpolate\n",
    "import pandas as pd\n",
    "from scipy.ndimage import gaussian_filter1d\n",
    "\n",
    "\n",
    "import matplotlib as mpl\n",
    "mpl.rcParams.update(mpl.rcParamsDefault)\n",
    "\n",
    "def remove_nan_values(x_values, y_values):\n",
    "    \"\"\"\n",
    "    Remove NaN values from y_values and the corresponding indices from x_values.\n",
    "\n",
    "    Parameters:\n",
    "    x_values (list or np.array): The x-values.\n",
    "    y_values (list or np.array): The y-values from which to remove NaN values.\n",
    "\n",
    "    Returns:\n",
    "    tuple: Two lists, the first with NaN-free x_values and the second with NaN-free y_values.\n",
    "    \"\"\"\n",
    "    cleaned_x_values = [x for x, y in zip(x_values, y_values) if not np.isnan(y)]\n",
    "    cleaned_y_values = [y for y in y_values if not np.isnan(y)]\n",
    "    return cleaned_x_values, cleaned_y_values\n",
    "\"\"\"    leny = len(y_values)\n",
    "    for i in range(leny):\n",
    "        if np.isnan(y_values[i]):\n",
    "            del y_values[i]\n",
    "            del x_values[i]\n",
    "    return x_values, y_values\n",
    "\"\"\"\n",
    "\n",
    "def smooth_posterior(x_values, posterior_values, sigma=2):\n",
    "    \"\"\"\n",
    "    Smooth the posterior values using a Gaussian filter.\n",
    "\n",
    "    Parameters:\n",
    "    x_values (np.array): The x-values of the posterior.\n",
    "    posterior_values (np.array): The posterior values to be smoothed.\n",
    "    sigma (float): The standard deviation for the Gaussian filter. Default is 2.\n",
    "\n",
    "    Returns:\n",
    "    np.array: The smoothed posterior values.\n",
    "    \"\"\"\n",
    "    smoothed_posterior = gaussian_filter1d(posterior_values, sigma)\n",
    "    return x_values, smoothed_posterior\n",
    "\n",
    "#HELPER FUNCTIONS\n",
    "def sort_linked_lists(list1, list2):\n",
    "    # Pair corresponding elements from both lists\n",
    "    paired_lists = list(zip(list1, list2))\n",
    "\n",
    "    # Sort based on the first list\n",
    "    sorted_pairs = sorted(paired_lists, key=lambda x: x[0])\n",
    "\n",
    "    # Unpack the sorted pairs back into the original lists\n",
    "    sorted_list1, sorted_list2 = zip(*sorted_pairs)\n",
    "\n",
    "    return list(sorted_list1), list(sorted_list2)\n",
    "\n",
    "def conf_interval(fluxes, probs):\n",
    "\n",
    "    # Assuming you have your x-values and posterior density values\n",
    "    x_values = fluxes  # Your x-values\n",
    "    posterior_density = probs  # Corresponding posterior density values\n",
    "    # Compute the cumulative distribution function (CDF)\n",
    "    cumulative_probabilities = np.cumsum(posterior_density)  # Numerical integration\n",
    "    # Normalize the cumulative probabilities\n",
    "    normalized_cumulative_probabilities = cumulative_probabilities / cumulative_probabilities[-1]\n",
    "    # Find the x-values corresponding to the 2.5th and 97.5th percentiles\n",
    "    lower_bound = np.interp(0.025, normalized_cumulative_probabilities, x_values)\n",
    "    upper_bound = np.interp(0.975, normalized_cumulative_probabilities, x_values)\n",
    "    return lower_bound, upper_bound\n",
    "\n",
    "def remove_above_threshold(list1, list2, threshold):\n",
    "    filtered_list1 = []\n",
    "    filtered_list2 = []\n",
    "    \n",
    "    for val1, val2 in zip(list1, list2):\n",
    "        if val1 <= threshold:\n",
    "            filtered_list1.append(val1)\n",
    "            filtered_list2.append(val2)\n",
    "    \n",
    "    return filtered_list1, filtered_list2\n",
    "\n",
    "\n",
    "def mortlock_post(F_hat, n):\n",
    "    #average noise \n",
    "    if n!= 1:\n",
    "        F_conf = 0.1 * n**(2/3)\n",
    "        noise = (1.5/-0.5 * 0.1**(1.5) * (F_conf**-0.5 - 0.1**-0.5)) * n\n",
    "        F_hat = F_hat - noise \n",
    "    print(\"sihu\", F_hat)\n",
    "    Fmin = 0.1\n",
    "    C = 0.2\n",
    "    sigma_b = 1\n",
    "    alpha = 2.5\n",
    "    F = np.linspace(2*Fmin, F_hat * 2, 100000) \n",
    "    sigma = sigma_b**2 + C*F\n",
    "    post = ((F> Fmin ) * F**(-alpha) * np.exp(-0.5 * (F_hat - F)**2 / sigma)/ sigma**0.5).reshape(-1)\n",
    "    posterior = post/ np.trapz(post, F)\n",
    "    return F, posterior\n",
    "\n",
    "\n",
    "def simulate(sigma0, F0 = 0.1, alpha = 2.5, Fmin = 0.1, omega=1):\n",
    "    #Average Number of stars (brighter than F_min) in observation space (omega_obsv)\n",
    "    N_bar = (omega * sigma0 * (Fmin/F0)**(1-alpha))//1 \n",
    "    #True N sampled from poisson\n",
    "    N = np.random.poisson(N_bar)\n",
    "    #Sample a flux for each star \n",
    "    fluxes = pareto.rvs(alpha-1, scale = Fmin, size=N)\n",
    "    return fluxes\n",
    "\n",
    "def analysis(sigma0, F0 = 0.1, alpha = 2.5, Fmin = 0.1, omega=1, noise_var = 1, m=1000):\n",
    "    total_flux = np.zeros(m)\n",
    "    brightest_flux = np.zeros(m)\n",
    "    brightest = 0\n",
    "    for i in range(m):\n",
    "        fluxes = simulate(sigma0)\n",
    "        flux_obsv = np.random.normal(fluxes, noise_var)\n",
    "        #Total Flux\n",
    "        F_tot = np.sum(fluxes)\n",
    "        total_flux[i] = F_tot\n",
    "        #Brightest star\n",
    "        F_brightest = np.max(fluxes)\n",
    "        brightest_flux[i] = F_brightest\n",
    "\n",
    "        #Store brightest \n",
    "        if F_brightest > brightest:\n",
    "            brightest = F_brightest\n",
    "            flux_dist = fluxes\n",
    "\n",
    "    return total_flux, brightest_flux, flux_dist\n",
    "\n",
    "def marginal(s_max, n):\n",
    "    \"\"\"\n",
    "    Input : \n",
    "    s_max - max flux\n",
    "    n = expected number of sources\n",
    "    \"\"\"\n",
    "    N = 1000000\n",
    "    x_max = 10000\n",
    "    T = x_max/N     # Sampling interval\n",
    "    num_vals = int(s_max * 1/T)\n",
    "    # Discretize the PDF\n",
    "    up_to_smax = np.linspace(0, s_max, num_vals, endpoint=False)\n",
    "\n",
    "    pdf_values_full = np.zeros(N)\n",
    "    pdf_values = pareto.pdf(up_to_smax, b=1.5, scale = 0.1)\n",
    "    pdf_values_full[:num_vals] = pdf_values\n",
    "\n",
    "    pdf_values_full = pdf_values_full/np.sum(pdf_values)\n",
    "\n",
    "    # Numerical Fourier Transform of the Pareto PDF\n",
    "    P_omega = np.fft.fft(pdf_values_full)\n",
    "    # Scale and account for deterministic number of sources \n",
    "    exp_nP = np.exp(n*P_omega - n)\n",
    "\n",
    "    # Compute the full frequency array for IFT\n",
    "    full_exp_nP = np.concatenate([exp_nP, np.conj(exp_nP[::-1])])\n",
    "\n",
    "    # Inverse Fourier Transform\n",
    "    x = np.fft.fftfreq(N, T)[:N//2]\n",
    "    x = x/((1000/x_max)**2)\n",
    "    ift_result = np.fft.ifft(full_exp_nP)\n",
    "    ift_result=ift_result[::2][:N//2]\n",
    "    ift_result_normalised = -np.abs(ift_result)/np.trapz(x, np.abs(ift_result))\n",
    "    a = int(1 * len(x))\n",
    "\n",
    "    return s_max + x[:a], ift_result_normalised[:a]\n",
    "\n",
    "def marginal_without_trunc(n):\n",
    "    x_max = 10000\n",
    "    N = 1000000\n",
    "    T = x_max/N  # Sampling interval\n",
    "    # Discretize the PDF\n",
    "    x_values = np.linspace(0, x_max, N, endpoint=False)\n",
    "\n",
    "    pdf_values = pareto.pdf(x_values, b=1.5, scale = 0.1)\n",
    "    pdf_values = pdf_values/np.sum(pdf_values)\n",
    "\n",
    "    # Numerical Fourier Transform of the Pareto PDF\n",
    "    P_omega = np.fft.fft(pdf_values)\n",
    "    # Scale and account for deterministic number of sources \n",
    "    exp_nP = np.exp(n*P_omega - n)\n",
    "\n",
    "    # Compute the full frequency array for IFT\n",
    "    full_exp_nP = np.concatenate([exp_nP, np.conj(exp_nP[::-1])])\n",
    "\n",
    "    # Inverse Fourier Transform\n",
    "    x = np.fft.fftfreq(N, T)[:N//2]\n",
    "    x = x/(1000/x_max)**2\n",
    "    ift_result = np.fft.ifft(full_exp_nP)\n",
    "    ift_result=ift_result[::2][:N//2]\n",
    "    ift_result_normalised = -np.abs(ift_result)/np.trapz(x, np.abs(ift_result))\n",
    "    a = int(1*len(x))\n",
    "\n",
    "    return x[:a], ift_result_normalised[:a]\n",
    "\n",
    "def prior_func(f, n):\n",
    "    prior= f**(-2.5)\n",
    "    eterm = np.exp(-n * (0.1/f)**(1.5))\n",
    "    return prior * eterm\n",
    "\n",
    "\n",
    "def posterior(F_obsv, n):\n",
    "    #range of max fluxes to consider\n",
    "    min_fmax = max(F_obsv - 0.3 * n - 30, 0.1)\n",
    "    max_fmax = F_obsv + 5\n",
    "    F_max_list = np.linspace(min_fmax, max_fmax, 1000)\n",
    "    #Range of fluxes to consider\n",
    "    min_f = max(F_obsv - 5, 0.1)\n",
    "    max_f = F_obsv + 5\n",
    "    F_list = np.linspace(min_f, max_f, 50000)\n",
    "    #Distribution of total fluxes only given n \n",
    "    total_flux, total_flux_density = marginal_without_trunc(n)\n",
    "    #Gives the value at points \n",
    "    g = interpolate.interp1d(total_flux, total_flux_density, bounds_error=False, fill_value=0)\n",
    "    pF = g(F_list)\n",
    "    normal_noise = norm.pdf(F_list, loc=F_obsv, scale = 1)\n",
    "    prior = prior_func(F_max_list, n)\n",
    "    integral_list = []\n",
    "    #X-values for posterior is fmax\n",
    "    for fmax in tqdm(F_max_list):\n",
    "        #for each f max we integrate over F\n",
    "        x, marg_y = marginal(fmax, n)\n",
    "        h = interpolate.interp1d(x, marg_y, bounds_error=False, fill_value=0)\n",
    "        marginalf = h(F_list)\n",
    "        post_prod = marginalf * normal_noise /pF\n",
    "        integral_val = np.trapz(F_list, post_prod)\n",
    "        integral_list.append(integral_val)\n",
    "    post = np.array(integral_list)*prior / np.trapz(np.array(integral_list)*prior, F_max_list)\n",
    "    return F_max_list, post\n",
    "\n",
    "def normal_approx(F_hat, n):\n",
    "\n",
    "    fmax = np.linspace(1, F_hat + 5, 100000)\n",
    "    f_avg = -3 *0.1**1.5 * (fmax**(-0.5) - 0.1**(-0.5))\n",
    "    f_total_avg = n*f_avg\n",
    "    F = fmax + f_total_avg\n",
    "    var = 3*0.1**1.5 *(fmax**(0.5) - 0.1**(0.5)) - (f_avg)**2\n",
    "    total_var = n*(f_avg**2 + var) +1\n",
    "    post = np.exp(-((F_hat - F)**2)/(2 * total_var))/np.sqrt(total_var)\n",
    "    post = post * prior_func(fmax, n)\n",
    "    post = post/np.trapz(post, fmax)\n",
    "\n",
    "    return fmax, post\n",
    "\n",
    "def save_to_txt(array, filename):\n",
    "    np.savetxt(filename, array, delimiter=',', fmt='%s')\n",
    "\n",
    "\n",
    "\n",
    "\n",
    "n=500\n",
    "\n",
    "total_flux, brightest_flux, flux_dist = analysis(n, m=10000)\n",
    "total_filtered, brightest_filtered = remove_above_threshold(total_flux, brightest_flux, 9000)\n",
    "total_flux, brightest_flux = sort_linked_lists(total_filtered, brightest_filtered)\n",
    "\n",
    "def predict(total_flux, n):\n",
    "    max_flux_prediction = []\n",
    "    lower_list = []\n",
    "    upper_list = []\n",
    "    mortlock_mle = []\n",
    "    normal_mle = []\n",
    "    #norm_lower = []\n",
    "    #norm_upper = []\n",
    "    counter = 0\n",
    "    for flux in tqdm(total_flux):\n",
    "        #True density values\n",
    "        fluxes, probs = posterior(flux, n)\n",
    "        #lower, upper = conf_interval(fluxes, probs)\n",
    "        #lower_list.append(lower)\n",
    "        #upper_list.append(upper)\n",
    "        max_ind = np.argmax(probs)\n",
    "        max_flux_prediction.append(fluxes[max_ind])\n",
    "\n",
    "        #mortlock posterior MLE \n",
    "        mort_fluxes, mort_probs = mortlock_post(flux, n)\n",
    "        mortlock_mle.append(mort_fluxes[np.argmax(mort_probs)])\n",
    "\n",
    "        #Normal Approx MLE\n",
    "        norm_flux, norm_post = normal_approx(flux, n)\n",
    "        normal_mle.append(norm_flux[np.argmax(norm_post)])\n",
    "        #lower_norm, upper_norm = conf_interval(norm_flux, norm_post)\n",
    "        #norm_lower.append(lower_norm)\n",
    "        #norm_upper.append(upper_norm)\n",
    "\n",
    "    return max_flux_prediction, mortlock_mle, normal_mle\n",
    " #norm_lower, norm_upper\n",
    "\n",
    "mle, mortlock_mle, normal_mle = predict(total_flux[-100:], n)\n",
    "\n",
    "save_to_txt(mle, 'mle.txt')\n",
    "save_to_txt(mortlock_mle, 'mortlock_mle.txt')\n",
    "save_to_txt(normal_mle, 'normal_mle.txt') \n",
    "save_to_txt(total_flux[-100:], \"total.txt\")\n",
    "save_to_txt(brightest_flux[-100:], \"brightest.txt\")\n"
   ]
  },
  {
   "cell_type": "code",
   "execution_count": 71,
   "metadata": {},
   "outputs": [
    {
     "name": "stdout",
     "output_type": "stream",
     "text": [
      "sihu 144.0601012702363\n",
      "sihu 145.01744949365897\n",
      "sihu 146.56653497883693\n",
      "sihu 147.32602960782756\n",
      "sihu 147.36216869074931\n",
      "sihu 147.38502864406846\n",
      "sihu 149.11778351942885\n",
      "sihu 150.5130574441816\n",
      "sihu 150.88231254449934\n",
      "sihu 153.36105186827442\n",
      "sihu 154.05458999871686\n",
      "sihu 154.27666010686622\n",
      "sihu 154.9016279050377\n",
      "sihu 155.2220577745537\n",
      "sihu 156.63934448396915\n",
      "sihu 156.71490509502362\n",
      "sihu 156.7577010734644\n",
      "sihu 157.93662189161492\n",
      "sihu 158.89787145740925\n",
      "sihu 161.60960184984347\n",
      "sihu 161.73196887623365\n",
      "sihu 163.7233324459497\n",
      "sihu 168.03427390875723\n",
      "sihu 168.42456218990426\n",
      "sihu 168.48450386157666\n",
      "sihu 173.38172593637094\n",
      "sihu 174.13758255850328\n",
      "sihu 174.37436780337956\n",
      "sihu 174.72655671876757\n",
      "sihu 175.3009548476521\n",
      "sihu 177.02407282684388\n",
      "sihu 183.42529754747014\n",
      "sihu 183.49222700567967\n",
      "sihu 184.15097799641975\n",
      "sihu 184.50879690714632\n",
      "sihu 186.95231920447216\n",
      "sihu 187.2768116148242\n",
      "sihu 187.48198476120487\n",
      "sihu 192.74142476104706\n",
      "sihu 192.78190708778592\n",
      "sihu 203.03922401419234\n",
      "sihu 204.92877662855224\n",
      "sihu 206.92878631086583\n",
      "sihu 207.7380980747607\n",
      "sihu 212.51945570617622\n",
      "sihu 213.04231041163885\n",
      "sihu 213.44715521014646\n",
      "sihu 213.8241470186804\n",
      "sihu 219.88444517309213\n",
      "sihu 219.9326754870954\n",
      "sihu 220.09196094891072\n",
      "sihu 226.84777065788788\n",
      "sihu 235.09761417786208\n",
      "sihu 236.88133262090244\n",
      "sihu 236.9645288054251\n",
      "sihu 240.1109378888561\n",
      "sihu 242.7580044564198\n",
      "sihu 245.76636419847878\n",
      "sihu 247.82848029744545\n",
      "sihu 252.10252218470762\n",
      "sihu 253.46218836222536\n",
      "sihu 253.94586311157266\n",
      "sihu 256.7379428263888\n",
      "sihu 259.13371415803147\n",
      "sihu 269.24977334341156\n",
      "sihu 269.74876472065034\n",
      "sihu 272.429292410891\n",
      "sihu 290.9654726299175\n",
      "sihu 291.9479894887129\n",
      "sihu 302.0286934397616\n",
      "sihu 303.7979432748873\n",
      "sihu 307.7502670557294\n",
      "sihu 313.1165111239487\n",
      "sihu 313.37764093116664\n",
      "sihu 322.9761611355252\n",
      "sihu 340.4435661305703\n",
      "sihu 357.48204953783943\n",
      "sihu 365.5911574279286\n",
      "sihu 373.93796722965453\n",
      "sihu 386.182523998492\n",
      "sihu 386.3319584666084\n",
      "sihu 405.346946557622\n",
      "sihu 407.80206231163345\n",
      "sihu 420.1662177944869\n",
      "sihu 424.8906110334276\n",
      "sihu 440.4415649410581\n",
      "sihu 462.127789669428\n",
      "sihu 466.1815532586726\n",
      "sihu 506.74872392335374\n",
      "sihu 507.16531502976864\n",
      "sihu 517.3437090839027\n",
      "sihu 524.8728656872026\n",
      "sihu 527.2351532452316\n",
      "sihu 705.9049329465506\n",
      "sihu 773.4309037126484\n",
      "sihu 780.8911184671889\n",
      "sihu 830.1006379666377\n",
      "sihu 853.0675488438317\n",
      "sihu 936.4045464338466\n",
      "sihu 1232.0904604974626\n"
     ]
    }
   ],
   "source": [
    "def load_from_txt(filename):\n",
    "    return np.loadtxt(filename).tolist()\n",
    "\n",
    "mle = load_from_txt('mle.txt')\n",
    "\n",
    "normal_mle = load_from_txt('normal_mle.txt')\n",
    "total_flux100 = load_from_txt('total.txt')\n",
    "brightest_flux100 = load_from_txt('brightest.txt')\n",
    "\n",
    "mortlock_mle = []\n",
    "for flux in total_flux100:\n",
    "    mort_fluxes, mort_probs = mortlock_post(flux, n)\n",
    "    mortlock_mle.append(mort_fluxes[np.argmax(mort_probs)])"
   ]
  },
  {
   "cell_type": "code",
   "execution_count": 72,
   "metadata": {},
   "outputs": [],
   "source": [
    "total = np.array(total_flux100)\n",
    "brightest = np.array(brightest_flux100)\n",
    "\n",
    "mle = np.array(mle)\n",
    "mortlock_mle = np.array(mortlock_mle)\n",
    "normal_mle = np.array(normal_mle)\n"
   ]
  },
  {
   "cell_type": "code",
   "execution_count": 81,
   "metadata": {},
   "outputs": [
    {
     "name": "stdout",
     "output_type": "stream",
     "text": [
      "[-1.37475953e+01  6.53528209e+00  5.03747330e+00  6.02088740e+01\n",
      " -1.49655719e+01  9.48232564e+00 -1.31893996e+01  6.79203619e+01\n",
      "  4.77917985e+01 -6.10542189e+00  2.49228500e+00 -1.68454869e+01\n",
      "  6.29060043e+00  8.96283121e+00  6.28071582e+00  5.75825892e+01\n",
      "  1.97247607e+00 -2.03265038e+01 -1.95186194e+00  7.87460686e+01\n",
      "  5.03620101e+01  5.15085017e+00  1.58573485e+01  1.31977117e+01\n",
      " -1.35088437e+01 -2.06090909e+00  1.14740552e+00  4.48803969e+01\n",
      " -1.80986188e+01  8.88008743e+01 -1.07938009e+01  4.16223471e+01\n",
      " -2.45952173e+01 -1.14837956e+01  2.60388189e+01 -1.38693210e+01\n",
      "  6.20184908e+01  1.25650960e+01 -2.61939037e+01  5.42541350e+00\n",
      " -2.20271118e+01  4.34683749e+00 -9.96000408e-02 -1.03180111e+01\n",
      " -2.01983976e+01 -1.34639683e+00  2.47433098e+00 -5.36436192e+00\n",
      " -3.77416028e-01 -1.13862015e+01 -1.18865486e+01  8.24138158e+00\n",
      "  7.07067315e+00 -2.31862932e+01 -9.53273043e+00  6.92726025e+01\n",
      "  2.02778388e+01  4.14453638e+01 -1.41597923e+01 -1.91397335e+00\n",
      " -2.44150527e+00 -1.42654122e+01 -1.66383462e+01  5.10611363e+00\n",
      "  5.67483441e+01  3.07022492e+01 -2.60057643e+01 -2.27569998e+01\n",
      "  3.01291898e+01  3.21311539e+01 -2.50161837e+01 -1.75757664e+01\n",
      "  1.53428351e+00 -1.64652020e+01  4.25130296e+01  8.73380297e+01\n",
      " -1.70420264e+01  1.00401318e+01  6.13378558e+01 -2.25912432e+01\n",
      " -1.58827774e+01 -5.29777545e+00  9.31800628e+00  4.07281638e+01\n",
      "  2.01550983e+00  1.51695238e+01  2.82992281e+00 -1.84296090e+01\n",
      " -3.18084409e+01 -8.66762303e+00  2.16358615e+02 -7.43608308e+00\n",
      " -3.61093478e+01 -6.55497332e+00 -4.32408688e+00  3.74412949e+01\n",
      " -5.04763336e+00  7.28054260e+00 -1.17367519e+01  2.04728945e+01]\n"
     ]
    },
    {
     "data": {
      "image/png": "[encoded data removed]",
      "text/plain": [
       "<Figure size 1296x432 with 4 Axes>"
      ]
     },
     "metadata": {
      "needs_background": "light"
     },
     "output_type": "display_data"
    }
   ],
   "source": [
    "avg_mle = total - n*(-3) * 0.1**(1.5) * (total**(-0.5) - 0.1**(-0.5))\n",
    "print(avg_mle - brightest)\n",
    "fig, axes = plt.subplots(2, 2, figsize=(18, 6))\n",
    "\n",
    "# Plot each subplot\n",
    "axes[0,0].scatter(mortlock_mle, mortlock_mle - brightest, color='black')\n",
    "axes[0,0].set_title(\"Residuals vs Fitted value under the single-source model\")\n",
    "axes[0,0].set_xlabel(\"Fitted Value\")\n",
    "axes[0,0].set_ylabel(\"Residuals\")\n",
    "\n",
    "axes[0,1].scatter(mle, mle - brightest, color='black')\n",
    "axes[0,1].set_title(\"Residuals vs Fitted value under the multi-source model\")\n",
    "axes[0,1].set_xlabel(\"Fitted Value\")\n",
    "axes[0,1].set_ylabel(\"Residuals\")\n",
    "\n",
    "axes[1,0].scatter(normal_mle, normal_mle - brightest, color='black')\n",
    "axes[1,0].set_title(\"Residuals vs Fitted value under the approximate model\")\n",
    "axes[1,0].set_xlabel(\"Fitted Value\")\n",
    "axes[1,0].set_ylabel(\"Residuals\")\n",
    "\n",
    "axes[1,1].scatter(avg_mle, avg_mle - brightest, color='black')\n",
    "axes[1,1].set_title(\"Residuals vs Fitted value by constant\")\n",
    "axes[1,1].set_xlabel(\"Fitted Value\")\n",
    "axes[1,1].set_ylabel(\"Residuals\")\n",
    "\n",
    "# Adjust layout for better spacing\n",
    "plt.tight_layout()\n",
    "#plt.savefig(\"residual-fitted\")\n",
    "# Show the plots\n",
    "plt.show()\n"
   ]
  },
  {
   "cell_type": "code",
   "execution_count": 83,
   "metadata": {},
   "outputs": [
    {
     "name": "stdout",
     "output_type": "stream",
     "text": [
      "[ 128.02083486  138.1857411   151.87802557  167.92370558  196.17953008\n",
      "  223.67407756  255.89178711  348.82071363  489.72806568 1214.47637752]\n"
     ]
    }
   ],
   "source": []
  },
  {
   "cell_type": "code",
   "execution_count": 44,
   "metadata": {},
   "outputs": [
    {
     "name": "stdout",
     "output_type": "stream",
     "text": [
      "sihu 144.0601012702363\n",
      "sihu 145.01744949365897\n",
      "sihu 146.56653497883693\n",
      "sihu 147.32602960782756\n",
      "sihu 147.36216869074931\n",
      "sihu 147.38502864406846\n",
      "sihu 149.11778351942885\n",
      "sihu 150.5130574441816\n",
      "sihu 150.88231254449934\n",
      "sihu 153.36105186827442\n",
      "sihu 154.05458999871686\n",
      "sihu 154.27666010686622\n",
      "sihu 154.9016279050377\n",
      "sihu 155.2220577745537\n",
      "sihu 156.63934448396915\n",
      "sihu 156.71490509502362\n",
      "sihu 156.7577010734644\n",
      "sihu 157.93662189161492\n",
      "sihu 158.89787145740925\n",
      "sihu 161.60960184984347\n",
      "sihu 161.73196887623365\n",
      "sihu 163.7233324459497\n",
      "sihu 168.03427390875723\n",
      "sihu 168.42456218990426\n",
      "sihu 168.48450386157666\n",
      "sihu 173.38172593637094\n",
      "sihu 174.13758255850328\n",
      "sihu 174.37436780337956\n",
      "sihu 174.72655671876757\n",
      "sihu 175.3009548476521\n",
      "sihu 177.02407282684388\n",
      "sihu 183.42529754747014\n",
      "sihu 183.49222700567967\n",
      "sihu 184.15097799641975\n",
      "sihu 184.50879690714632\n",
      "sihu 186.95231920447216\n",
      "sihu 187.2768116148242\n",
      "sihu 187.48198476120487\n",
      "sihu 192.74142476104706\n",
      "sihu 192.78190708778592\n",
      "sihu 203.03922401419234\n",
      "sihu 204.92877662855224\n",
      "sihu 206.92878631086583\n",
      "sihu 207.7380980747607\n",
      "sihu 212.51945570617622\n",
      "sihu 213.04231041163885\n",
      "sihu 213.44715521014646\n",
      "sihu 213.8241470186804\n",
      "sihu 219.88444517309213\n",
      "sihu 219.9326754870954\n",
      "sihu 220.09196094891072\n",
      "sihu 226.84777065788788\n",
      "sihu 235.09761417786208\n",
      "sihu 236.88133262090244\n",
      "sihu 236.9645288054251\n",
      "sihu 240.1109378888561\n",
      "sihu 242.7580044564198\n",
      "sihu 245.76636419847878\n",
      "sihu 247.82848029744545\n",
      "sihu 252.10252218470762\n",
      "sihu 253.46218836222536\n",
      "sihu 253.94586311157266\n",
      "sihu 256.7379428263888\n",
      "sihu 259.13371415803147\n",
      "sihu 269.24977334341156\n",
      "sihu 269.74876472065034\n",
      "sihu 272.429292410891\n",
      "sihu 290.9654726299175\n",
      "sihu 291.9479894887129\n",
      "sihu 302.0286934397616\n",
      "sihu 303.7979432748873\n",
      "sihu 307.7502670557294\n",
      "sihu 313.1165111239487\n",
      "sihu 313.37764093116664\n",
      "sihu 322.9761611355252\n",
      "sihu 340.4435661305703\n",
      "sihu 357.48204953783943\n",
      "sihu 365.5911574279286\n",
      "sihu 373.93796722965453\n",
      "sihu 386.182523998492\n",
      "sihu 386.3319584666084\n",
      "sihu 405.346946557622\n",
      "sihu 407.80206231163345\n",
      "sihu 420.1662177944869\n",
      "sihu 424.8906110334276\n",
      "sihu 440.4415649410581\n",
      "sihu 462.127789669428\n",
      "sihu 466.1815532586726\n",
      "sihu 506.74872392335374\n",
      "sihu 507.16531502976864\n",
      "sihu 517.3437090839027\n",
      "sihu 524.8728656872026\n",
      "sihu 527.2351532452316\n",
      "sihu 705.9049329465506\n",
      "sihu 773.4309037126484\n",
      "sihu 780.8911184671889\n",
      "sihu 830.1006379666377\n",
      "sihu 853.0675488438317\n",
      "sihu 936.4045464338466\n",
      "sihu 1232.0904604974626\n",
      "6.171182822095854\n",
      "7.214555227300458\n",
      "7.251092404992562\n",
      "494.82090462787073 516.7350781161481 518.0745229651093 283.949028952202\n"
     ]
    },
    {
     "data": {
      "image/png": "[encoded data removed]",
      "text/plain": [
       "<Figure size 1296x432 with 3 Axes>"
      ]
     },
     "metadata": {
      "needs_background": "light"
     },
     "output_type": "display_data"
    }
   ],
   "source": [
    "\n",
    "\n",
    "le = np.arange(1, 101, 1)\n",
    "\n",
    "\n",
    "print(normal_mle[90], mortlock_mle[90], mle[90], brightest[90])\n",
    "# Create a figure with 3 subplots\n",
    "fig, axes = plt.subplots(1, 3, figsize=(18, 6))\n",
    "\n",
    "# Plot each subplot\n",
    "axes[0].scatter(brightest, mortlock_mle - brightest, color='black')\n",
    "axes[0].set_title(\"Residuals vs Fitted value under the single-source model\")\n",
    "axes[0].set_xlabel(\"Fitted Value\")\n",
    "axes[0].set_ylabel(\"Residuals\")\n",
    "\n",
    "axes[1].scatter(mle, mle - brightest, color='black')\n",
    "axes[1].set_title(\"Residuals vs Fitted value under the multi-source model\")\n",
    "axes[1].set_xlabel(\"Fitted Value\")\n",
    "axes[1].set_ylabel(\"Residuals\")\n",
    "\n",
    "axes[2].scatter(total, normal_mle - brightest, color='black')\n",
    "axes[2].set_title(\"Residuals vs Fitted value under the approximate model\")\n",
    "axes[2].set_xlabel(\"Fitted Value\")\n",
    "axes[2].set_ylabel(\"Residuals\")\n",
    "\n",
    "# Adjust layout for better spacing\n",
    "plt.tight_layout()\n",
    "plt.savefig(\"residual-fitted\")\n",
    "# Show the plots\n",
    "plt.show()"
   ]
  },
  {
   "cell_type": "code",
   "execution_count": 73,
   "metadata": {},
   "outputs": [
    {
     "name": "stdout",
     "output_type": "stream",
     "text": [
      "2365.3482739135507\n",
      "2745.611715108369\n",
      "2742.5909719337233\n"
     ]
    }
   ],
   "source": [
    "print(np.sum(np.abs(normal_mle - brightest)))\n",
    "print(np.sum(np.abs(mle - brightest)))\n",
    "print(np.sum(np.abs(mortlock_mle - brightest)))"
   ]
  },
  {
   "cell_type": "code",
   "execution_count": 36,
   "metadata": {},
   "outputs": [
    {
     "name": "stdout",
     "output_type": "stream",
     "text": [
      "129.29304060071055\n",
      "133.09567501265877\n",
      "129.32324803245706\n",
      "[ 118.38011952  128.80500301  142.82031095  159.20699107  187.98005962\n",
      "  215.89738769  248.53648689  342.38045929  484.18302421 1210.83998484]\n"
     ]
    }
   ],
   "source": [
    "#Improvement from reporting the total flux instead of each mle estimate \n",
    "\n",
    "print((np.sum(np.abs(total- brightest) -np.abs(mle - brightest)))/100)\n",
    "print((np.sum(np.abs(total- brightest) -np.abs(normal_mle - brightest)))/100)\n",
    "print((sum(np.abs(total- brightest) -np.abs(mortlock_mle - brightest)))/100)\n",
    "print(normal_mle[::11])\n"
   ]
  },
  {
   "cell_type": "code",
   "execution_count": 85,
   "metadata": {},
   "outputs": [
    {
     "name": "stdout",
     "output_type": "stream",
     "text": [
      "25.368547687832944\n",
      "25.351564876462398\n",
      "21.762387860988706\n",
      "154.65070616965804\n",
      "20.646084349117988\n"
     ]
    }
   ],
   "source": [
    "normal_mle = list(normal_mle)\n",
    "mle = list(mle)\n",
    "mortlock_mle = list(mortlock_mle)\n",
    "avg_mle = list(avg_mle)\n",
    "avg_mle_excluded = avg_mle[:90] + avg_mle[91:]\n",
    "normal_mle_excluded = normal_mle[:90] + normal_mle[91:]\n",
    "mortlock_mle_excluded = mortlock_mle[:90] + mortlock_mle[91:]\n",
    "mle_excluded = mle[:90] + mle[91:]\n",
    "brightest_excluded = brightest_flux100[:90] + brightest_flux100[91:]\n",
    "total_excluded = total_flux100[:90] + total_flux100[91:]\n",
    "\n",
    "mle_excluded = np.array(mle_excluded)\n",
    "mortlock_mle_excluded = np.array(mortlock_mle_excluded)\n",
    "normal_mle_excluded = np.array(normal_mle_excluded)\n",
    "total_excluded = np.array(total_excluded)\n",
    "avg_exclude = np.array(avg_mle_excluded)\n",
    "brightest_excluded = np.array(brightest_excluded)\n",
    "print(np.mean(np.abs(mle_excluded - brightest_excluded)))\n",
    "print(np.mean(np.abs(mortlock_mle_excluded-brightest_excluded)))\n",
    "print(np.mean(np.abs(normal_mle_excluded-brightest_excluded)))\n",
    "print(np.mean(np.abs(total_excluded - brightest_excluded)))\n",
    "print(np.mean(np.abs(avg_mle_excluded - brightest_excluded)))"
   ]
  },
  {
   "cell_type": "code",
   "execution_count": 55,
   "metadata": {},
   "outputs": [
    {
     "data": {
      "text/plain": [
       "38"
      ]
     },
     "execution_count": 55,
     "metadata": {},
     "output_type": "execute_result"
    }
   ],
   "source": [
    "np.sum(np.abs(brightest - mle) < np.abs(brightest - normal_mle))"
   ]
  },
  {
   "cell_type": "code",
   "execution_count": 93,
   "metadata": {},
   "outputs": [
    {
     "name": "stderr",
     "output_type": "stream",
     "text": [
      "100%|██████████| 1000/1000 [01:28<00:00, 11.27it/s]\n",
      "  5%|▌         | 1/20 [01:28<28:10, 88.96s/it]"
     ]
    },
    {
     "name": "stdout",
     "output_type": "stream",
     "text": [
      "sihu 390.05360610895195\n",
      "0\n"
     ]
    },
    {
     "name": "stderr",
     "output_type": "stream",
     "text": [
      "100%|██████████| 1000/1000 [01:27<00:00, 11.43it/s]\n",
      " 10%|█         | 2/20 [02:56<26:27, 88.18s/it]"
     ]
    },
    {
     "name": "stdout",
     "output_type": "stream",
     "text": [
      "sihu 397.5741829313953\n",
      "0\n"
     ]
    },
    {
     "name": "stderr",
     "output_type": "stream",
     "text": [
      "100%|██████████| 1000/1000 [01:27<00:00, 11.48it/s]\n",
      " 15%|█▌        | 3/20 [04:23<24:51, 87.75s/it]"
     ]
    },
    {
     "name": "stdout",
     "output_type": "stream",
     "text": [
      "sihu 414.8851346628476\n",
      "0\n"
     ]
    },
    {
     "name": "stderr",
     "output_type": "stream",
     "text": [
      "100%|██████████| 1000/1000 [01:26<00:00, 11.51it/s]\n",
      " 20%|██        | 4/20 [05:50<23:19, 87.47s/it]"
     ]
    },
    {
     "name": "stdout",
     "output_type": "stream",
     "text": [
      "sihu 433.5569449134439\n",
      "0\n"
     ]
    },
    {
     "name": "stderr",
     "output_type": "stream",
     "text": [
      "100%|██████████| 1000/1000 [01:27<00:00, 11.47it/s]\n",
      " 25%|██▌       | 5/20 [07:18<21:51, 87.41s/it]"
     ]
    },
    {
     "name": "stdout",
     "output_type": "stream",
     "text": [
      "sihu 441.99937651709104\n",
      "0\n"
     ]
    },
    {
     "name": "stderr",
     "output_type": "stream",
     "text": [
      "100%|██████████| 1000/1000 [01:28<00:00, 11.27it/s]\n",
      " 30%|███       | 6/20 [08:47<20:30, 87.92s/it]"
     ]
    },
    {
     "name": "stdout",
     "output_type": "stream",
     "text": [
      "sihu 447.3064342177537\n",
      "0\n"
     ]
    },
    {
     "name": "stderr",
     "output_type": "stream",
     "text": [
      "100%|██████████| 1000/1000 [01:29<00:00, 11.23it/s]\n",
      " 35%|███▌      | 7/20 [10:16<19:08, 88.34s/it]"
     ]
    },
    {
     "name": "stdout",
     "output_type": "stream",
     "text": [
      "sihu 464.99778579903443\n",
      "0\n"
     ]
    },
    {
     "name": "stderr",
     "output_type": "stream",
     "text": [
      "100%|██████████| 1000/1000 [01:31<00:00, 10.97it/s]\n",
      " 40%|████      | 8/20 [11:47<17:51, 89.27s/it]"
     ]
    },
    {
     "name": "stdout",
     "output_type": "stream",
     "text": [
      "sihu 465.77059351117214\n",
      "0\n"
     ]
    },
    {
     "name": "stderr",
     "output_type": "stream",
     "text": [
      "100%|██████████| 1000/1000 [01:26<00:00, 11.61it/s]\n",
      " 45%|████▌     | 9/20 [13:13<16:11, 88.34s/it]"
     ]
    },
    {
     "name": "stdout",
     "output_type": "stream",
     "text": [
      "sihu 549.8501613466954\n",
      "0\n"
     ]
    },
    {
     "name": "stderr",
     "output_type": "stream",
     "text": [
      "100%|██████████| 1000/1000 [01:26<00:00, 11.53it/s]\n",
      " 50%|█████     | 10/20 [14:40<14:39, 87.90s/it]"
     ]
    },
    {
     "name": "stdout",
     "output_type": "stream",
     "text": [
      "sihu 593.1024619056165\n",
      "0\n"
     ]
    },
    {
     "name": "stderr",
     "output_type": "stream",
     "text": [
      "100%|██████████| 1000/1000 [01:34<00:00, 10.57it/s]\n",
      " 55%|█████▌    | 11/20 [16:15<13:29, 89.99s/it]"
     ]
    },
    {
     "name": "stdout",
     "output_type": "stream",
     "text": [
      "sihu 628.004796519959\n",
      "0\n"
     ]
    },
    {
     "name": "stderr",
     "output_type": "stream",
     "text": [
      "100%|██████████| 1000/1000 [01:34<00:00, 10.58it/s]\n",
      " 60%|██████    | 12/20 [17:50<12:11, 91.45s/it]"
     ]
    },
    {
     "name": "stdout",
     "output_type": "stream",
     "text": [
      "sihu 813.973473025182\n",
      "0\n"
     ]
    },
    {
     "name": "stderr",
     "output_type": "stream",
     "text": [
      "100%|██████████| 1000/1000 [01:32<00:00, 10.78it/s]\n",
      " 65%|██████▌   | 13/20 [19:23<10:43, 91.89s/it]"
     ]
    },
    {
     "name": "stdout",
     "output_type": "stream",
     "text": [
      "sihu 1386.2192715424255\n",
      "0\n"
     ]
    },
    {
     "name": "stderr",
     "output_type": "stream",
     "text": [
      "100%|██████████| 1000/1000 [01:32<00:00, 10.80it/s]\n",
      " 70%|███████   | 14/20 [20:55<09:12, 92.14s/it]"
     ]
    },
    {
     "name": "stdout",
     "output_type": "stream",
     "text": [
      "sihu 1724.6832621499186\n",
      "0\n"
     ]
    },
    {
     "name": "stderr",
     "output_type": "stream",
     "text": [
      "100%|██████████| 1000/1000 [01:33<00:00, 10.72it/s]\n",
      " 75%|███████▌  | 15/20 [22:29<07:42, 92.54s/it]"
     ]
    },
    {
     "name": "stdout",
     "output_type": "stream",
     "text": [
      "sihu 1757.1519444921826\n",
      "0\n"
     ]
    },
    {
     "name": "stderr",
     "output_type": "stream",
     "text": [
      "100%|██████████| 1000/1000 [01:32<00:00, 10.83it/s]\n",
      " 80%|████████  | 16/20 [24:01<06:10, 92.53s/it]"
     ]
    },
    {
     "name": "stdout",
     "output_type": "stream",
     "text": [
      "sihu 1783.3585989990602\n",
      "0\n"
     ]
    },
    {
     "name": "stderr",
     "output_type": "stream",
     "text": [
      "100%|██████████| 1000/1000 [01:34<00:00, 10.61it/s]\n",
      " 85%|████████▌ | 17/20 [25:36<04:39, 93.10s/it]"
     ]
    },
    {
     "name": "stdout",
     "output_type": "stream",
     "text": [
      "sihu 2032.1068264050155\n",
      "0\n"
     ]
    },
    {
     "name": "stderr",
     "output_type": "stream",
     "text": [
      "100%|██████████| 1000/1000 [01:31<00:00, 10.88it/s]\n",
      " 90%|█████████ | 18/20 [27:08<03:05, 92.79s/it]"
     ]
    },
    {
     "name": "stdout",
     "output_type": "stream",
     "text": [
      "sihu 2212.315478474516\n",
      "0\n"
     ]
    },
    {
     "name": "stderr",
     "output_type": "stream",
     "text": [
      "100%|██████████| 1000/1000 [01:33<00:00, 10.67it/s]\n",
      " 95%|█████████▌| 19/20 [28:42<01:33, 93.10s/it]"
     ]
    },
    {
     "name": "stdout",
     "output_type": "stream",
     "text": [
      "sihu 2457.4988594954384\n",
      "0\n"
     ]
    },
    {
     "name": "stderr",
     "output_type": "stream",
     "text": [
      "100%|██████████| 1000/1000 [01:34<00:00, 10.63it/s]\n",
      "100%|██████████| 20/20 [30:16<00:00, 90.82s/it]"
     ]
    },
    {
     "name": "stdout",
     "output_type": "stream",
     "text": [
      "sihu 2660.354370693943\n",
      "0\n"
     ]
    },
    {
     "name": "stderr",
     "output_type": "stream",
     "text": [
      "\n"
     ]
    }
   ],
   "source": [
    "n=500\n",
    "\n",
    "tflux, bflux, fdist = analysis(n, m=10000)\n",
    "tfiltered, bfiltered = remove_above_threshold(tflux, bflux, 9000)\n",
    "tflux, bflux = sort_linked_lists(tfiltered, bfiltered)\n",
    "tflux1 = tflux[-20:]\n",
    "bflux1 = bflux[-20:]\n",
    "\n",
    "def predict_mean(tflux, n):\n",
    "    max_flux_prediction = []\n",
    "    mortlock_mle = []\n",
    "    normal_mle = []\n",
    "    mmax_flux_prediction = []\n",
    "    mmortlock_mle = []\n",
    "    mnormal_mle = []\n",
    "    counter = 0\n",
    "    for flux in tqdm(tflux):\n",
    "        #True density values\n",
    "        fluxes, probs = posterior(flux, n)\n",
    "        mean_val = np.sum(fluxes * probs)\n",
    "        mmax_flux_prediction.append(mean_val)\n",
    "\n",
    "        #mortlock posterior MLE \n",
    "        mort_fluxes, mort_probs = mortlock_post(flux, n)\n",
    "        mean_mort = np.sum(mort_fluxes * mort_probs)\n",
    "        mmortlock_mle.append(mean_mort)\n",
    "\n",
    "        #Normal Approx MLE\n",
    "        norm_flux, norm_post = normal_approx(flux, n)\n",
    "        mean_norm = np.sum(norm_flux * norm_post)\n",
    "        mnormal_mle.append(mean_norm)\n",
    "        \n",
    "        max_ind = np.argmax(probs)\n",
    "        max_flux_prediction.append(fluxes[max_ind])\n",
    "\n",
    "        #mortlock posterior MLE \n",
    "        mortlock_mle.append(mort_fluxes[np.argmax(mort_probs)])\n",
    "\n",
    "        #Normal Approx MLE\n",
    "        normal_mle.append(norm_flux[np.argmax(norm_post)])\n",
    "        print(counter)\n",
    "    return max_flux_prediction, mortlock_mle, normal_mle, mmax_flux_prediction, mmortlock_mle, mnormal_mle\n",
    "\n",
    "pmean, mmean, nmean, a, b, c = predict_mean(tflux1, n)\n",
    "\n"
   ]
  },
  {
   "cell_type": "code",
   "execution_count": 113,
   "metadata": {},
   "outputs": [
    {
     "name": "stderr",
     "output_type": "stream",
     "text": [
      "  0%|          | 0/50 [00:00<?, ?it/s]/var/folders/zh/7zp_8xb91cj2g3jy1m3w7kp40000gn/T/ipykernel_78528/1111779111.py:157: RuntimeWarning: invalid value encountered in true_divide\n",
      "  pdf_values_full = pdf_values_full/np.sum(pdf_values)\n",
      "100%|██████████| 1000/1000 [01:27<00:00, 11.45it/s]\n",
      "  2%|▏         | 1/50 [01:27<1:11:27, 87.50s/it]"
     ]
    },
    {
     "name": "stdout",
     "output_type": "stream",
     "text": [
      "sihu 22.94050536181706\n",
      "0\n"
     ]
    },
    {
     "name": "stderr",
     "output_type": "stream",
     "text": [
      "100%|██████████| 1000/1000 [01:26<00:00, 11.62it/s]\n",
      "  4%|▍         | 2/50 [02:53<1:09:22, 86.71s/it]"
     ]
    },
    {
     "name": "stdout",
     "output_type": "stream",
     "text": [
      "sihu 22.985092897910533\n",
      "0\n"
     ]
    },
    {
     "name": "stderr",
     "output_type": "stream",
     "text": [
      "100%|██████████| 1000/1000 [01:24<00:00, 11.78it/s]\n",
      "  6%|▌         | 3/50 [04:18<1:07:18, 85.93s/it]"
     ]
    },
    {
     "name": "stdout",
     "output_type": "stream",
     "text": [
      "sihu 23.082153934581356\n",
      "0\n"
     ]
    },
    {
     "name": "stderr",
     "output_type": "stream",
     "text": [
      "100%|██████████| 1000/1000 [01:24<00:00, 11.83it/s]\n",
      "  8%|▊         | 4/50 [05:43<1:05:29, 85.42s/it]"
     ]
    },
    {
     "name": "stdout",
     "output_type": "stream",
     "text": [
      "sihu 23.138152219908108\n",
      "0\n"
     ]
    },
    {
     "name": "stderr",
     "output_type": "stream",
     "text": [
      "100%|██████████| 1000/1000 [01:25<00:00, 11.75it/s]\n",
      " 10%|█         | 5/50 [07:08<1:04:00, 85.35s/it]"
     ]
    },
    {
     "name": "stdout",
     "output_type": "stream",
     "text": [
      "sihu 23.14642320616761\n",
      "0\n"
     ]
    },
    {
     "name": "stderr",
     "output_type": "stream",
     "text": [
      "100%|██████████| 1000/1000 [01:25<00:00, 11.74it/s]\n",
      " 12%|█▏        | 6/50 [08:33<1:02:35, 85.34s/it]"
     ]
    },
    {
     "name": "stdout",
     "output_type": "stream",
     "text": [
      "sihu 23.314400559512535\n",
      "0\n"
     ]
    },
    {
     "name": "stderr",
     "output_type": "stream",
     "text": [
      "100%|██████████| 1000/1000 [01:25<00:00, 11.66it/s]\n",
      " 14%|█▍        | 7/50 [09:59<1:01:17, 85.51s/it]"
     ]
    },
    {
     "name": "stdout",
     "output_type": "stream",
     "text": [
      "sihu 23.372487632728593\n",
      "0\n"
     ]
    },
    {
     "name": "stderr",
     "output_type": "stream",
     "text": [
      "100%|██████████| 1000/1000 [01:26<00:00, 11.59it/s]\n",
      " 16%|█▌        | 8/50 [11:26<1:00:03, 85.79s/it]"
     ]
    },
    {
     "name": "stdout",
     "output_type": "stream",
     "text": [
      "sihu 23.40380475798375\n",
      "0\n"
     ]
    },
    {
     "name": "stderr",
     "output_type": "stream",
     "text": [
      "100%|██████████| 1000/1000 [01:23<00:00, 11.93it/s]\n",
      " 18%|█▊        | 9/50 [12:50<58:13, 85.20s/it]  "
     ]
    },
    {
     "name": "stdout",
     "output_type": "stream",
     "text": [
      "sihu 23.54240800872276\n",
      "0\n"
     ]
    },
    {
     "name": "stderr",
     "output_type": "stream",
     "text": [
      "100%|██████████| 1000/1000 [01:23<00:00, 11.98it/s]\n",
      " 20%|██        | 10/50 [14:13<56:28, 84.71s/it]"
     ]
    },
    {
     "name": "stdout",
     "output_type": "stream",
     "text": [
      "sihu 23.628887163805615\n",
      "0\n"
     ]
    },
    {
     "name": "stderr",
     "output_type": "stream",
     "text": [
      "100%|██████████| 1000/1000 [01:24<00:00, 11.82it/s]\n",
      " 22%|██▏       | 11/50 [15:38<55:03, 84.71s/it]"
     ]
    },
    {
     "name": "stdout",
     "output_type": "stream",
     "text": [
      "sihu 23.65033538707803\n",
      "0\n"
     ]
    },
    {
     "name": "stderr",
     "output_type": "stream",
     "text": [
      "100%|██████████| 1000/1000 [01:24<00:00, 11.84it/s]\n",
      " 24%|██▍       | 12/50 [17:02<53:37, 84.66s/it]"
     ]
    },
    {
     "name": "stdout",
     "output_type": "stream",
     "text": [
      "sihu 23.7202001092883\n",
      "0\n"
     ]
    },
    {
     "name": "stderr",
     "output_type": "stream",
     "text": [
      "100%|██████████| 1000/1000 [01:27<00:00, 11.37it/s]\n",
      " 26%|██▌       | 13/50 [18:30<52:50, 85.69s/it]"
     ]
    },
    {
     "name": "stdout",
     "output_type": "stream",
     "text": [
      "sihu 23.76720996625147\n",
      "0\n"
     ]
    },
    {
     "name": "stderr",
     "output_type": "stream",
     "text": [
      "100%|██████████| 1000/1000 [01:25<00:00, 11.67it/s]\n",
      " 28%|██▊       | 14/50 [19:56<51:25, 85.72s/it]"
     ]
    },
    {
     "name": "stdout",
     "output_type": "stream",
     "text": [
      "sihu 23.828565405485136\n",
      "0\n"
     ]
    },
    {
     "name": "stderr",
     "output_type": "stream",
     "text": [
      "100%|██████████| 1000/1000 [01:28<00:00, 11.30it/s]\n",
      " 30%|███       | 15/50 [21:25<50:30, 86.59s/it]"
     ]
    },
    {
     "name": "stdout",
     "output_type": "stream",
     "text": [
      "sihu 23.899113698047984\n",
      "0\n"
     ]
    },
    {
     "name": "stderr",
     "output_type": "stream",
     "text": [
      "100%|██████████| 1000/1000 [01:28<00:00, 11.29it/s]\n",
      " 32%|███▏      | 16/50 [22:54<49:25, 87.23s/it]"
     ]
    },
    {
     "name": "stdout",
     "output_type": "stream",
     "text": [
      "sihu 23.901578705511582\n",
      "0\n"
     ]
    },
    {
     "name": "stderr",
     "output_type": "stream",
     "text": [
      "100%|██████████| 1000/1000 [01:29<00:00, 11.14it/s]\n",
      " 34%|███▍      | 17/50 [24:23<48:24, 88.02s/it]"
     ]
    },
    {
     "name": "stdout",
     "output_type": "stream",
     "text": [
      "sihu 23.941894588279496\n",
      "0\n"
     ]
    },
    {
     "name": "stderr",
     "output_type": "stream",
     "text": [
      "100%|██████████| 1000/1000 [01:31<00:00, 10.89it/s]\n",
      " 36%|███▌      | 18/50 [25:55<47:34, 89.20s/it]"
     ]
    },
    {
     "name": "stdout",
     "output_type": "stream",
     "text": [
      "sihu 24.04938427350001\n",
      "0\n"
     ]
    },
    {
     "name": "stderr",
     "output_type": "stream",
     "text": [
      "100%|██████████| 1000/1000 [01:33<00:00, 10.71it/s]\n",
      " 38%|███▊      | 19/50 [27:29<46:45, 90.50s/it]"
     ]
    },
    {
     "name": "stdout",
     "output_type": "stream",
     "text": [
      "sihu 24.114953672619606\n",
      "0\n"
     ]
    },
    {
     "name": "stderr",
     "output_type": "stream",
     "text": [
      "100%|██████████| 1000/1000 [01:34<00:00, 10.61it/s]\n",
      " 40%|████      | 20/50 [29:03<45:50, 91.68s/it]"
     ]
    },
    {
     "name": "stdout",
     "output_type": "stream",
     "text": [
      "sihu 24.126795568570543\n",
      "0\n"
     ]
    },
    {
     "name": "stderr",
     "output_type": "stream",
     "text": [
      "100%|██████████| 1000/1000 [01:33<00:00, 10.70it/s]\n",
      " 42%|████▏     | 21/50 [30:37<44:35, 92.25s/it]"
     ]
    },
    {
     "name": "stdout",
     "output_type": "stream",
     "text": [
      "sihu 24.229929088439775\n",
      "0\n"
     ]
    },
    {
     "name": "stderr",
     "output_type": "stream",
     "text": [
      "100%|██████████| 1000/1000 [01:33<00:00, 10.64it/s]\n",
      " 44%|████▍     | 22/50 [32:11<43:18, 92.79s/it]"
     ]
    },
    {
     "name": "stdout",
     "output_type": "stream",
     "text": [
      "sihu 24.30875663616675\n",
      "0\n"
     ]
    },
    {
     "name": "stderr",
     "output_type": "stream",
     "text": [
      "100%|██████████| 1000/1000 [01:34<00:00, 10.64it/s]\n",
      " 46%|████▌     | 23/50 [33:45<41:57, 93.25s/it]"
     ]
    },
    {
     "name": "stdout",
     "output_type": "stream",
     "text": [
      "sihu 24.471539013485227\n",
      "0\n"
     ]
    },
    {
     "name": "stderr",
     "output_type": "stream",
     "text": [
      "100%|██████████| 1000/1000 [01:30<00:00, 11.07it/s]\n",
      " 48%|████▊     | 24/50 [35:16<40:02, 92.41s/it]"
     ]
    },
    {
     "name": "stdout",
     "output_type": "stream",
     "text": [
      "sihu 24.708225166276378\n",
      "0\n"
     ]
    },
    {
     "name": "stderr",
     "output_type": "stream",
     "text": [
      "100%|██████████| 1000/1000 [01:37<00:00, 10.29it/s]\n",
      " 50%|█████     | 25/50 [36:53<39:07, 93.89s/it]"
     ]
    },
    {
     "name": "stdout",
     "output_type": "stream",
     "text": [
      "sihu 24.89653008493366\n",
      "0\n"
     ]
    },
    {
     "name": "stderr",
     "output_type": "stream",
     "text": [
      "100%|██████████| 1000/1000 [01:35<00:00, 10.44it/s]\n",
      " 52%|█████▏    | 26/50 [38:29<37:48, 94.50s/it]"
     ]
    },
    {
     "name": "stdout",
     "output_type": "stream",
     "text": [
      "sihu 24.909336349697668\n",
      "0\n"
     ]
    },
    {
     "name": "stderr",
     "output_type": "stream",
     "text": [
      "100%|██████████| 1000/1000 [01:33<00:00, 10.66it/s]\n",
      " 54%|█████▍    | 27/50 [40:03<36:09, 94.34s/it]"
     ]
    },
    {
     "name": "stdout",
     "output_type": "stream",
     "text": [
      "sihu 25.064168272923098\n",
      "0\n"
     ]
    },
    {
     "name": "stderr",
     "output_type": "stream",
     "text": [
      "100%|██████████| 1000/1000 [01:32<00:00, 10.75it/s]\n",
      " 56%|█████▌    | 28/50 [41:36<34:27, 93.97s/it]"
     ]
    },
    {
     "name": "stdout",
     "output_type": "stream",
     "text": [
      "sihu 25.0751766304123\n",
      "0\n"
     ]
    },
    {
     "name": "stderr",
     "output_type": "stream",
     "text": [
      "100%|██████████| 1000/1000 [01:32<00:00, 10.84it/s]\n",
      " 58%|█████▊    | 29/50 [43:08<32:43, 93.50s/it]"
     ]
    },
    {
     "name": "stdout",
     "output_type": "stream",
     "text": [
      "sihu 25.238199374013078\n",
      "0\n"
     ]
    },
    {
     "name": "stderr",
     "output_type": "stream",
     "text": [
      "100%|██████████| 1000/1000 [01:31<00:00, 10.93it/s]\n",
      " 60%|██████    | 30/50 [44:40<30:58, 92.94s/it]"
     ]
    },
    {
     "name": "stdout",
     "output_type": "stream",
     "text": [
      "sihu 25.23906743664685\n",
      "0\n"
     ]
    },
    {
     "name": "stderr",
     "output_type": "stream",
     "text": [
      "100%|██████████| 1000/1000 [01:30<00:00, 11.07it/s]\n",
      " 62%|██████▏   | 31/50 [46:11<29:11, 92.21s/it]"
     ]
    },
    {
     "name": "stdout",
     "output_type": "stream",
     "text": [
      "sihu 25.337047357479463\n",
      "0\n"
     ]
    },
    {
     "name": "stderr",
     "output_type": "stream",
     "text": [
      "100%|██████████| 1000/1000 [01:31<00:00, 10.91it/s]\n",
      " 64%|██████▍   | 32/50 [47:42<27:37, 92.07s/it]"
     ]
    },
    {
     "name": "stdout",
     "output_type": "stream",
     "text": [
      "sihu 25.35192524121021\n",
      "0\n"
     ]
    },
    {
     "name": "stderr",
     "output_type": "stream",
     "text": [
      "100%|██████████| 1000/1000 [01:31<00:00, 10.91it/s]\n",
      " 66%|██████▌   | 33/50 [49:14<26:03, 91.98s/it]"
     ]
    },
    {
     "name": "stdout",
     "output_type": "stream",
     "text": [
      "sihu 25.627719933804286\n",
      "0\n"
     ]
    },
    {
     "name": "stderr",
     "output_type": "stream",
     "text": [
      "100%|██████████| 1000/1000 [01:32<00:00, 10.79it/s]\n",
      " 68%|██████▊   | 34/50 [50:47<24:35, 92.23s/it]"
     ]
    },
    {
     "name": "stdout",
     "output_type": "stream",
     "text": [
      "sihu 25.690786267792475\n",
      "0\n"
     ]
    },
    {
     "name": "stderr",
     "output_type": "stream",
     "text": [
      "100%|██████████| 1000/1000 [01:31<00:00, 10.89it/s]\n",
      " 70%|███████   | 35/50 [52:19<23:02, 92.14s/it]"
     ]
    },
    {
     "name": "stdout",
     "output_type": "stream",
     "text": [
      "sihu 25.769662173998455\n",
      "0\n"
     ]
    },
    {
     "name": "stderr",
     "output_type": "stream",
     "text": [
      "100%|██████████| 1000/1000 [01:31<00:00, 10.88it/s]\n",
      " 72%|███████▏  | 36/50 [53:51<21:29, 92.12s/it]"
     ]
    },
    {
     "name": "stdout",
     "output_type": "stream",
     "text": [
      "sihu 25.775970289059643\n",
      "0\n"
     ]
    },
    {
     "name": "stderr",
     "output_type": "stream",
     "text": [
      "100%|██████████| 1000/1000 [01:31<00:00, 10.92it/s]\n",
      " 74%|███████▍  | 37/50 [55:23<19:55, 91.99s/it]"
     ]
    },
    {
     "name": "stdout",
     "output_type": "stream",
     "text": [
      "sihu 25.928293538893257\n",
      "0\n"
     ]
    },
    {
     "name": "stderr",
     "output_type": "stream",
     "text": [
      "100%|██████████| 1000/1000 [01:34<00:00, 10.57it/s]\n",
      " 76%|███████▌  | 38/50 [56:57<18:33, 92.80s/it]"
     ]
    },
    {
     "name": "stdout",
     "output_type": "stream",
     "text": [
      "sihu 25.95234491435312\n",
      "0\n"
     ]
    },
    {
     "name": "stderr",
     "output_type": "stream",
     "text": [
      "100%|██████████| 1000/1000 [01:34<00:00, 10.64it/s]\n",
      " 78%|███████▊  | 39/50 [58:31<17:05, 93.20s/it]"
     ]
    },
    {
     "name": "stdout",
     "output_type": "stream",
     "text": [
      "sihu 25.964824099656568\n",
      "0\n"
     ]
    },
    {
     "name": "stderr",
     "output_type": "stream",
     "text": [
      "100%|██████████| 1000/1000 [01:34<00:00, 10.63it/s]\n",
      " 80%|████████  | 40/50 [1:00:06<15:35, 93.51s/it]"
     ]
    },
    {
     "name": "stdout",
     "output_type": "stream",
     "text": [
      "sihu 26.001272426409543\n",
      "0\n"
     ]
    },
    {
     "name": "stderr",
     "output_type": "stream",
     "text": [
      "100%|██████████| 1000/1000 [01:33<00:00, 10.66it/s]\n",
      " 82%|████████▏ | 41/50 [1:01:40<14:02, 93.64s/it]"
     ]
    },
    {
     "name": "stdout",
     "output_type": "stream",
     "text": [
      "sihu 26.044407203856963\n",
      "0\n"
     ]
    },
    {
     "name": "stderr",
     "output_type": "stream",
     "text": [
      "100%|██████████| 1000/1000 [01:36<00:00, 10.37it/s]\n",
      " 84%|████████▍ | 42/50 [1:03:16<12:36, 94.52s/it]"
     ]
    },
    {
     "name": "stdout",
     "output_type": "stream",
     "text": [
      "sihu 26.27767642731473\n",
      "0\n"
     ]
    },
    {
     "name": "stderr",
     "output_type": "stream",
     "text": [
      "100%|██████████| 1000/1000 [01:34<00:00, 10.64it/s]\n",
      " 86%|████████▌ | 43/50 [1:04:50<11:00, 94.41s/it]"
     ]
    },
    {
     "name": "stdout",
     "output_type": "stream",
     "text": [
      "sihu 26.284433278095634\n",
      "0\n"
     ]
    },
    {
     "name": "stderr",
     "output_type": "stream",
     "text": [
      "100%|██████████| 1000/1000 [01:30<00:00, 11.08it/s]\n",
      " 88%|████████▊ | 44/50 [1:06:21<09:19, 93.20s/it]"
     ]
    },
    {
     "name": "stdout",
     "output_type": "stream",
     "text": [
      "sihu 26.39302920346509\n",
      "0\n"
     ]
    },
    {
     "name": "stderr",
     "output_type": "stream",
     "text": [
      "100%|██████████| 1000/1000 [01:27<00:00, 11.48it/s]\n",
      " 90%|█████████ | 45/50 [1:07:48<07:37, 91.41s/it]"
     ]
    },
    {
     "name": "stdout",
     "output_type": "stream",
     "text": [
      "sihu 26.61542438095924\n",
      "0\n"
     ]
    },
    {
     "name": "stderr",
     "output_type": "stream",
     "text": [
      "100%|██████████| 1000/1000 [01:37<00:00, 10.23it/s]\n",
      " 92%|█████████▏| 46/50 [1:09:26<06:13, 93.35s/it]"
     ]
    },
    {
     "name": "stdout",
     "output_type": "stream",
     "text": [
      "sihu 26.732375853750142\n",
      "0\n"
     ]
    },
    {
     "name": "stderr",
     "output_type": "stream",
     "text": [
      "100%|██████████| 1000/1000 [02:05<00:00,  7.99it/s]\n",
      " 94%|█████████▍| 47/50 [1:11:31<05:08, 102.91s/it]"
     ]
    },
    {
     "name": "stdout",
     "output_type": "stream",
     "text": [
      "sihu 26.839110856076104\n",
      "0\n"
     ]
    },
    {
     "name": "stderr",
     "output_type": "stream",
     "text": [
      "100%|██████████| 1000/1000 [02:03<00:00,  8.12it/s]\n",
      " 96%|█████████▌| 48/50 [1:13:34<03:38, 109.06s/it]"
     ]
    },
    {
     "name": "stdout",
     "output_type": "stream",
     "text": [
      "sihu 26.860451634147097\n",
      "0\n"
     ]
    },
    {
     "name": "stderr",
     "output_type": "stream",
     "text": [
      "100%|██████████| 1000/1000 [01:29<00:00, 11.17it/s]\n",
      " 98%|█████████▊| 49/50 [1:15:04<01:43, 103.25s/it]"
     ]
    },
    {
     "name": "stdout",
     "output_type": "stream",
     "text": [
      "sihu 26.90947616780062\n",
      "0\n"
     ]
    },
    {
     "name": "stderr",
     "output_type": "stream",
     "text": [
      "100%|██████████| 1000/1000 [01:30<00:00, 11.07it/s]\n",
      "100%|██████████| 50/50 [1:16:35<00:00, 91.90s/it] "
     ]
    },
    {
     "name": "stdout",
     "output_type": "stream",
     "text": [
      "sihu 27.342692448308412\n",
      "0\n"
     ]
    },
    {
     "name": "stderr",
     "output_type": "stream",
     "text": [
      "\n"
     ]
    }
   ],
   "source": [
    "n=500\n",
    "\n",
    "tflux, bflux, fdist = analysis(n, m=1000)\n",
    "tfiltered, bfiltered = remove_above_threshold(tflux, bflux, 9000)\n",
    "tflux, bflux = sort_linked_lists(tfiltered, bfiltered)\n",
    "tflux1 = tflux[750:800]\n",
    "bflux1 = bflux[750:800]\n",
    "\n",
    "def predict_mean(tflux, n):\n",
    "    max_flux_prediction = []\n",
    "    mortlock_mle = []\n",
    "    normal_mle = []\n",
    "    mmax_flux_prediction = []\n",
    "    mmortlock_mle = []\n",
    "    mnormal_mle = []\n",
    "    counter = 0\n",
    "    for flux in tqdm(tflux):\n",
    "        #True density values\n",
    "        fluxes, probs = posterior(flux, n)\n",
    "        mean_val = np.sum(fluxes * probs)/(fluxes[-1] - fluxes[0])\n",
    "        mmax_flux_prediction.append(mean_val)\n",
    "\n",
    "        #mortlock posterior MLE \n",
    "        mort_fluxes, mort_probs = mortlock_post(flux, n)\n",
    "        mean_mort = np.sum(mort_fluxes * mort_probs)/(mort_fluxes[-1] - mort_fluxes[0])\n",
    "        mmortlock_mle.append(mean_mort)\n",
    "\n",
    "        #Normal Approx MLE\n",
    "        norm_flux, norm_post = normal_approx(flux, n)\n",
    "        mean_norm = np.sum(norm_flux * norm_post)/(norm_flux[-1] - norm_flux[0])\n",
    "        mnormal_mle.append(mean_norm)\n",
    "        \n",
    "        max_ind = np.argmax(probs)\n",
    "        max_flux_prediction.append(fluxes[max_ind])\n",
    "\n",
    "        #mortlock posterior MLE \n",
    "        mortlock_mle.append(mort_fluxes[np.argmax(mort_probs)])\n",
    "\n",
    "        #Normal Approx MLE\n",
    "        normal_mle.append(norm_flux[np.argmax(norm_post)])\n",
    "        print(counter)\n",
    "    return max_flux_prediction, mortlock_mle, normal_mle, mmax_flux_prediction, mmortlock_mle, mnormal_mle\n",
    "\n",
    "pmean_l, mmean_l, nmean_l, a_l, b_l, c_l = predict_mean(tflux1, n)\n",
    "\n"
   ]
  }
 ],
 "metadata": {
  "kernelspec": {
   "display_name": "Python 3",
   "language": "python",
   "name": "python3"
  },
  "language_info": {
   "codemirror_mode": {
    "name": "ipython",
    "version": 3
   },
   "file_extension": ".py",
   "mimetype": "text/x-python",
   "name": "python",
   "nbconvert_exporter": "python",
   "pygments_lexer": "ipython3",
   "version": "3.9.10"
  }
 },
 "nbformat": 4,
 "nbformat_minor": 2
}
